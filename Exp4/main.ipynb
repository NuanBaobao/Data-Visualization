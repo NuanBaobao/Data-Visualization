{
 "cells": [
  {
   "cell_type": "code",
   "execution_count": null,
   "metadata": {},
   "outputs": [],
   "source": [
    "from time import time\n",
    "import numpy as np\n",
    "import matplotlib.pyplot as plt\n",
    "from sklearn import datasets\n",
    "import pandas as pd\n",
    "from mpl_toolkits.mplot3d import Axes3D\n",
    "from matplotlib.ticker import NullFormatter\n",
    "from sklearn import manifold\n",
    "from sklearn.manifold import TSNE\n"
   ]
  },
  {
   "cell_type": "code",
   "execution_count": null,
   "metadata": {},
   "outputs": [],
   "source": [
    "digits = datasets.load_digits(n_class=9)   #取前10种数字图片，0-10\n",
    "data = digits.data   #data.shape=[1617,64]，表示1617张图片，每个图片8*8但是将图片表示为一个行向量\n",
    "label = digits.target   #表示取出的图片对应的数字"
   ]
  },
  {
   "cell_type": "code",
   "execution_count": null,
   "metadata": {},
   "outputs": [],
   "source": [
    "#绘制二维分类图\n",
    "Perplexity = [30, 50, 100]\n",
    "learningRate = [100,300,500,700,1000]\n",
    "fig,ax=plt.subplots(3,5)\n",
    "fig.set_size_inches(40,25)\n",
    "fig.set_dpi(300)\n",
    "\n",
    "for i in range(len(Perplexity)):\n",
    "    for j in range(len(learningRate)):\n",
    "        t0 = time()   #记录开始时间\n",
    "        reduced_x = TSNE(n_components=2,perplexity=Perplexity[i],learning_rate=learningRate[j],init=\"random\").fit_transform(data)\n",
    "        index = i * 5 + j\n",
    "        fig.add_subplot(3,5,index+1)\n",
    "        for t in range(10):\n",
    "            plt.scatter(reduced_x[label == t, 0], reduced_x[label == t, 1], marker='o', label=str(t),alpha=0.5)\n",
    "       \n",
    "        plt.legend()  # 显示图例\n",
    "        plt.title(\"perplexity=%.f learning_rate=%.f time=%.1f\"%(Perplexity[i],learningRate[j],time()-t0)) # 显示标题\n",
    "plt.show()"
   ]
  },
  {
   "cell_type": "code",
   "execution_count": null,
   "metadata": {},
   "outputs": [],
   "source": [
    "#绘制三维分类图\n",
    "Perplexity = [30, 50, 100]\n",
    "learningRate = [100,300,500,700,1000]\n",
    "fig = plt.figure()\n",
    "fig.set_size_inches(40,25)\n",
    "fig.set_dpi(300)\n",
    "\n",
    "for i in range(len(Perplexity)):\n",
    "    for j in range(len(learningRate)):\n",
    "        t0 = time()   #记录开始时间\n",
    "        reduced_x = TSNE(n_components=3,perplexity=Perplexity[i],learning_rate=learningRate[j],init=\"random\").fit_transform(data)\n",
    "        index = i * 5 + j\n",
    "        ax = fig.add_subplot(3,5,index+1, projection='3d')\n",
    "        for t in range(10):\n",
    "            ax.scatter(reduced_x[label == t, 0], reduced_x[label == t, 1],reduced_x[label == t, 2], marker='o', label=str(t),alpha=0.5)\n",
    "       \n",
    "        ax.legend()  # 显示图例\n",
    "        plt.title(\"perplexity=%.f learning_rate=%.f time=%.1f\"%(Perplexity[i],learningRate[j],time()-t0)) # 显示标题\n",
    "plt.show()\n"
   ]
  },
  {
   "cell_type": "code",
   "execution_count": null,
   "metadata": {},
   "outputs": [],
   "source": [
    "#绘制三维分类图\n",
    "Perplexity = [30, 50, 100]\n",
    "learningRate = [100,300,500,700,1000]\n",
    "fig = plt.figure()\n",
    "fig.set_size_inches(40,25)\n",
    "fig.set_dpi(300)\n",
    "\n",
    "for i in range(len(Perplexity)):\n",
    "    for j in range(len(learningRate)):\n",
    "        t0 = time()   #记录开始时间\n",
    "        reduced_x = TSNE(n_components=3,perplexity=Perplexity[i],learning_rate=learningRate[j],init=\"pca\").fit_transform(data)\n",
    "        index = i * 5 + j\n",
    "        ax = fig.add_subplot(3,5,index+1, projection='3d')\n",
    "        for t in range(10):\n",
    "            ax.scatter(reduced_x[label == t, 0], reduced_x[label == t, 1],reduced_x[label == t, 2], marker='o', label=str(t),alpha=0.5)\n",
    "       \n",
    "        ax.legend()  # 显示图例\n",
    "        plt.title(\"perplexity=%.f learning_rate=%.f time=%.1f\"%(Perplexity[i],learningRate[j],time()-t0)) # 显示标题\n",
    "plt.show()\n"
   ]
  },
  {
   "cell_type": "code",
   "execution_count": null,
   "metadata": {},
   "outputs": [],
   "source": [
    "#绘制二维分类图\n",
    "Perplexity = [30, 50, 100]\n",
    "learningRate = [100,300,500,700,1000]\n",
    "fig,ax=plt.subplots(3,5)\n",
    "fig.set_size_inches(40,25)\n",
    "fig.set_dpi(300)\n",
    "\n",
    "for i in range(len(Perplexity)):\n",
    "    for j in range(len(learningRate)):\n",
    "        t0 = time()   #记录开始时间\n",
    "        reduced_x = TSNE(n_components=2,perplexity=Perplexity[i],learning_rate=learningRate[j],init=\"pca\").fit_transform(data)\n",
    "        index = i * 5 + j\n",
    "        fig.add_subplot(3,5,index+1)\n",
    "        for t in range(10):\n",
    "            plt.scatter(reduced_x[label == t, 0], reduced_x[label == t, 1], marker='o', label=str(t),alpha=0.5)\n",
    "       \n",
    "        plt.legend()  # 显示图例\n",
    "        plt.title(\"perplexity=%.f learning_rate=%.f time=%.1f\"%(Perplexity[i],learningRate[j],time()-t0)) # 显示标题\n",
    "plt.show()"
   ]
  },
  {
   "cell_type": "code",
   "execution_count": null,
   "metadata": {},
   "outputs": [],
   "source": [
    "#绘制二维分类图\n",
    "Perplexity = [30, 50, 100]\n",
    "learningRate = [100,300,500,700,1000]\n",
    "fig,ax=plt.subplots(3,5)\n",
    "fig.set_size_inches(40,25)\n",
    "fig.set_dpi(300)\n",
    "rng = np.random.RandomState(0)\n",
    "colors = rng.rand(500)  # 随机产生50个用于颜色映射的数值\n",
    "\n",
    "for i in range(len(Perplexity)):\n",
    "    for j in range(len(learningRate)):\n",
    "        t0 = time()   #记录开始时间\n",
    "        reduced_x = TSNE(n_components=2,perplexity=Perplexity[i],learning_rate=learningRate[j],init=\"pca\").fit_transform(data)\n",
    "        index = i * 5 + j\n",
    "        fig.add_subplot(3,5,index+1)\n",
    "        for t in range(10):\n",
    "            plt.scatter(reduced_x[label == t, 0], reduced_x[label == t, 1],c = colors[:len(reduced_x[label==t,0])], marker='o', label=str(t),alpha=0.5,cmap='viridis')\n",
    "       \n",
    "        plt.legend()  # 显示图例\n",
    "        plt.title(\"perplexity=%.f learning_rate=%.f time=%.1f\"%(Perplexity[i],learningRate[j],time()-t0)) # 显示标题\n",
    "plt.show()"
   ]
  },
  {
   "cell_type": "code",
   "execution_count": null,
   "metadata": {},
   "outputs": [],
   "source": [
    "#绘制二维分类图\n",
    "Perplexity = [30, 50, 100]\n",
    "learningRate = [100,300,500,700,1000]\n",
    "fig,ax=plt.subplots(3,5)\n",
    "fig.set_size_inches(40,25)\n",
    "fig.set_dpi(300)\n",
    "rng = np.random.RandomState(0)\n",
    "\n",
    "for i in range(len(Perplexity)):\n",
    "    for j in range(len(learningRate)):\n",
    "        t0 = time()   #记录开始时间\n",
    "        reduced_x = TSNE(n_components=2,perplexity=Perplexity[i],learning_rate=learningRate[j],init=\"pca\").fit_transform(data)\n",
    "        index = i * 5 + j\n",
    "        fig.add_subplot(3,5,index+1)\n",
    "        for t in range(10):\n",
    "            plt.scatter(reduced_x[label == t, 0], reduced_x[label == t, 1], marker='o', label=str(t),alpha=0.5,cmap='viridis')\n",
    "       \n",
    "        plt.legend()  # 显示图例\n",
    "        plt.title(\"perplexity=%.f learning_rate=%.f time=%.1f\"%(Perplexity[i],learningRate[j],time()-t0)) # 显示标题\n",
    "plt.show()\n"
   ]
  },
  {
   "cell_type": "code",
   "execution_count": null,
   "metadata": {},
   "outputs": [],
   "source": [
    "#绘制二维分类图\n",
    "Perplexity = [30, 50, 100]\n",
    "learningRate = [100,300,500,700,1000]\n",
    "fig,ax=plt.subplots(3,5)\n",
    "fig.set_size_inches(40,25)\n",
    "fig.set_dpi(300)\n",
    "rng = np.random.RandomState(0)\n",
    "\n",
    "for i in range(len(Perplexity)):\n",
    "    for j in range(len(learningRate)):\n",
    "        t0 = time()   #记录开始时间\n",
    "        reduced_x = TSNE(n_components=2,perplexity=Perplexity[i],learning_rate=learningRate[j],init=\"pca\").fit_transform(data)\n",
    "        index = i * 5 + j\n",
    "        fig.add_subplot(3,5,index+1)\n",
    "        for t in range(10):\n",
    "            plt.scatter(reduced_x[label == t, 0], reduced_x[label == t, 1], label=str(t),alpha=0.5,cmap='viridis')\n",
    "       \n",
    "        plt.legend()  # 显示图例\n",
    "        plt.title(\"perplexity=%.f learning_rate=%.f time=%.1f\"%(Perplexity[i],learningRate[j],time()-t0)) # 显示标题\n",
    "plt.show()\n"
   ]
  }
 ],
 "metadata": {
  "interpreter": {
   "hash": "ab7eb41095a1d0b12d6e29bea5f630fb958becb170730b07f2203e0c2c5d31ac"
  },
  "kernelspec": {
   "display_name": "Python 3.9.7 64-bit",
   "name": "python3"
  },
  "language_info": {
   "codemirror_mode": {
    "name": "ipython",
    "version": 3
   },
   "file_extension": ".py",
   "mimetype": "text/x-python",
   "name": "python",
   "nbconvert_exporter": "python",
   "pygments_lexer": "ipython3",
   "version": "3.9.7"
  },
  "orig_nbformat": 4
 },
 "nbformat": 4,
 "nbformat_minor": 2
}
